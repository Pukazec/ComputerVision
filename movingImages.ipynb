{
 "cells": [
  {
   "cell_type": "code",
   "execution_count": 3,
   "metadata": {},
   "outputs": [
    {
     "name": "stdout",
     "output_type": "stream",
     "text": [
      "All files copied successfully.\n"
     ]
    }
   ],
   "source": [
    "import os\n",
    "import shutil\n",
    "\n",
    "# Define source and destination directories\n",
    "source_dirs = [\"archive/test\", \"archive/train\", \"archive/valid\"]\n",
    "destination_base_dir = \"myArchive\"\n",
    "\n",
    "# Ensure the destination base directory exists\n",
    "os.makedirs(destination_base_dir, exist_ok=True)\n",
    "\n",
    "# Get the list of category folders from one of the source directories (assuming they are consistent)\n",
    "categories = os.listdir(source_dirs[0])\n",
    "\n",
    "for category in categories:\n",
    "    for source_dir in source_dirs:\n",
    "        # Define source and destination paths\n",
    "        source_path = os.path.join(source_dir, category)\n",
    "        destination_path = os.path.join(destination_base_dir, category)\n",
    "\n",
    "        # Ensure the destination category folder exists\n",
    "        os.makedirs(destination_path, exist_ok=True)\n",
    "\n",
    "        # Copy all files from the source category folder to the destination category folder\n",
    "        for item in os.listdir(source_path):\n",
    "            src_item = os.path.join(source_path, item)\n",
    "            dst_item = os.path.join(destination_path, item)\n",
    "\n",
    "            if os.path.isdir(src_item):\n",
    "                shutil.copytree(src_item, dst_item, dirs_exist_ok=True)\n",
    "            else:\n",
    "                shutil.copy2(src_item, dst_item)\n",
    "\n",
    "print(\"All files copied successfully.\")"
   ]
  },
  {
   "cell_type": "code",
   "execution_count": 4,
   "metadata": {},
   "outputs": [
    {
     "name": "stdout",
     "output_type": "stream",
     "text": [
      "Files have been split into train, test, and valid directories.\n"
     ]
    }
   ],
   "source": [
    "import os\n",
    "import shutil\n",
    "import random\n",
    "\n",
    "# Define source and destination directories\n",
    "source_base_dir = \"myArchive\"\n",
    "destination_dirs = {\n",
    "    \"train\": os.path.join(source_base_dir, \"train\"),\n",
    "    #\"test\": os.path.join(source_base_dir, \"test\"),\n",
    "    \"valid\": os.path.join(source_base_dir, \"valid\")\n",
    "}\n",
    "\n",
    "# Create destination directories if they don't exist\n",
    "for dest in destination_dirs.values():\n",
    "    os.makedirs(dest, exist_ok=True)\n",
    "\n",
    "# Get the list of category folders\n",
    "categories = [d for d in os.listdir(source_base_dir) if os.path.isdir(os.path.join(source_base_dir, d))]\n",
    "\n",
    "for category in categories:\n",
    "    source_path = os.path.join(source_base_dir, category)\n",
    "    \n",
    "    # Skip if the path is one of the destination folders\n",
    "    if source_path in destination_dirs.values():\n",
    "        continue\n",
    "    \n",
    "    # Get list of all files in the category directory\n",
    "    files = os.listdir(source_path)\n",
    "    random.shuffle(files)\n",
    "    \n",
    "    # Calculate split sizes\n",
    "    total_files = len(files)\n",
    "    train_size = int(total_files * 0.8)\n",
    "    valid_size = total_files - train_size\n",
    "   # test_size = total_files - train_size - valid_size\n",
    "    \n",
    "    # Split files\n",
    "    train_files = files[:train_size]\n",
    "    valid_files = files[train_size:train_size + valid_size]\n",
    "    #test_files = files[train_size + valid_size:]\n",
    "    \n",
    "    # Define destination paths for the category\n",
    "    train_dest = os.path.join(destination_dirs[\"train\"], category)\n",
    "    valid_dest = os.path.join(destination_dirs[\"valid\"], category)\n",
    "   # test_dest = os.path.join(destination_dirs[\"test\"], category)\n",
    "    \n",
    "    # Ensure destination category folders exist\n",
    "    os.makedirs(train_dest, exist_ok=True)\n",
    "    os.makedirs(valid_dest, exist_ok=True)\n",
    "#    os.makedirs(test_dest, exist_ok=True)\n",
    "    \n",
    "    # Copy files to respective folders\n",
    "    for file in train_files:\n",
    "        shutil.move(os.path.join(source_path, file), os.path.join(train_dest, file))\n",
    "    \n",
    "    for file in valid_files:\n",
    "        shutil.move(os.path.join(source_path, file), os.path.join(valid_dest, file))\n",
    "    \n",
    "    # for file in test_files:\n",
    "    #    shutil.move(os.path.join(source_path, file), os.path.join(test_dest, file))\n",
    "\n",
    "print(\"Files have been split into train, test, and valid directories.\")"
   ]
  }
 ],
 "metadata": {
  "kernelspec": {
   "display_name": "Python 3",
   "language": "python",
   "name": "python3"
  },
  "language_info": {
   "codemirror_mode": {
    "name": "ipython",
    "version": 3
   },
   "file_extension": ".py",
   "mimetype": "text/x-python",
   "name": "python",
   "nbconvert_exporter": "python",
   "pygments_lexer": "ipython3",
   "version": "3.12.3"
  }
 },
 "nbformat": 4,
 "nbformat_minor": 2
}
